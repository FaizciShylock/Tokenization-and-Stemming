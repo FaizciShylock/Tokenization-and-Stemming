{
 "cells": [
  {
   "cell_type": "code",
   "execution_count": 61,
   "id": "historic-fields",
   "metadata": {},
   "outputs": [],
   "source": [
    "import nltk\n",
    "from nltk.tokenize import word_tokenize, sent_tokenize #for tokenization\n",
    "from nltk.stem import PorterStemmer #for stemming\n",
    "import snowballstemmer #We also import this one for \"Turkish\"\n",
    "from nltk.corpus import stopwords \n",
    "import numpy as np"
   ]
  },
  {
   "cell_type": "code",
   "execution_count": 62,
   "id": "aggregate-hawaiian",
   "metadata": {},
   "outputs": [],
   "source": [
    "# Reading the data and lowercasing all the letters and return it "
   ]
  },
  {
   "cell_type": "code",
   "execution_count": 63,
   "id": "burning-thirty",
   "metadata": {},
   "outputs": [],
   "source": [
    "def processing_data(file_name):\n",
    "    \n",
    "    with open(file_name, encoding=\"utf8\") as f:\n",
    "        file_name_d = f.read()\n",
    "    file_name_d_lower = file_name_d.lower() #.lower() for lowering the letters\n",
    "    # tokenize the text word by word\n",
    "    sentences = sent_tokenize(file_name_d_lower)\n",
    "    words = word_tokenize(file_name_d_lower)\n",
    "    \n",
    "    return sentences,words\n",
    "    "
   ]
  },
  {
   "cell_type": "code",
   "execution_count": 64,
   "id": "collect-input",
   "metadata": {},
   "outputs": [],
   "source": [
    "# We have two text files (one for eng and the other for tr)\n",
    "# Let's deal with the ENG one"
   ]
  },
  {
   "cell_type": "code",
   "execution_count": 65,
   "id": "quantitative-sister",
   "metadata": {},
   "outputs": [],
   "source": [
    "sentence_list_eng, word_list_eng = processing_data('news_eng.txt')"
   ]
  },
  {
   "cell_type": "code",
   "execution_count": 66,
   "id": "hundred-advance",
   "metadata": {},
   "outputs": [
    {
     "name": "stdout",
     "output_type": "stream",
     "text": [
      "['international', 'climate', 'change', 'groups', 'and', 'influential', 'advisers', 'on', 'the', 'global', 'shift', 'from', 'fossil', 'fuels', 'have', 'written', 'to', 'the', 'oecd', 'expressing', '“', 'grave', 'concerns', '”', 'over', 'australian', 'politician', 'mathias', 'cormann', '’', 's', 'bid', 'to', 'be', 'its', 'next', 'secretary-general', '.', 'former', 'australian', 'finance', 'minister', 'cormann', '’', 's', 'record', 'in', 'a', 'government', 'that', '“', 'persistently', 'failed', 'to', 'take', 'effective', 'action', '”', 'to', 'cut', 'emissions', 'while', 'blocking', 'international', 'action', 'meant', 'he', 'was', '“', 'not', 'a', 'suitable', 'candidate', '”', ',', 'the', 'letter', 'says', '.', 'cormann', 'is', 'one', 'of', 'only', 'two', 'remaining', 'candidates', 'for', 'the', 'top', 'oecd', 'role', 'after', 'two', 'candidates', '–', 'swiss', 'banker', 'philipp', 'hildebrand', 'and', 'greek', 'politician', 'anna', 'diamantopoulou', '–', 'withdrew', 'earlier', 'this', 'week', '.']\n"
     ]
    }
   ],
   "source": [
    "print(word_list_eng)"
   ]
  },
  {
   "cell_type": "code",
   "execution_count": 67,
   "id": "guided-semiconductor",
   "metadata": {},
   "outputs": [
    {
     "name": "stdout",
     "output_type": "stream",
     "text": [
      "['international climate change groups and influential advisers on the global shift from fossil fuels have written to the oecd expressing “grave concerns” over australian politician mathias cormann’s bid to be its next secretary-general.', 'former australian finance minister cormann’s record in a government that “persistently failed to take effective action” to cut emissions while blocking international action meant he was “not a suitable candidate”, the letter says.', 'cormann is one of only two remaining candidates for the top oecd role after two candidates – swiss banker philipp hildebrand and greek politician anna diamantopoulou – withdrew earlier this week.']\n"
     ]
    }
   ],
   "source": [
    "print(sentence_list_eng)"
   ]
  },
  {
   "cell_type": "code",
   "execution_count": 68,
   "id": "critical-canal",
   "metadata": {},
   "outputs": [],
   "source": [
    "# Let's deal with the TR one"
   ]
  },
  {
   "cell_type": "code",
   "execution_count": 69,
   "id": "attended-setting",
   "metadata": {},
   "outputs": [],
   "source": [
    "sentence_list_tr, word_list_tr = processing_data('haber_tr.txt')"
   ]
  },
  {
   "cell_type": "code",
   "execution_count": 70,
   "id": "compliant-jacksonville",
   "metadata": {},
   "outputs": [
    {
     "name": "stdout",
     "output_type": "stream",
     "text": [
      "['ekonomi', 'yönetiminin', 'değişmesinden', 'sonra', 'düşüşe', 'geçen', 'dolar', 'kuru', '6.90', '’', 'a', 'kadar', 'çekildi', '.', 'ancak', 'son', 'dönemde', 'yine', 'yönünü', 'yukarı', 'çevirmiş', 'durumda', '.', 'kur', 'dün', '7.59', 'seviyesine', 'kadar', 'çıktı', '.', 'bu', 'yükselişin', 'en', 'önemli', 'sebebi', 'ise', 'abd', 'hazine', 'tahvili', 'faizlerinde', 'yaşanan', 'artış', '.', 'faizler', 'gece', 'saatlerinde', 'yüzde', '1.5', '’', 'i', 'aşarken', ',', 'dolar', 'endeksi', 'de', 'üç', 'ayın', 'zirvesine', 'çıktı', '.', 'ata', 'yatırım', 'direktörü', 'cem', 'tözge', ',', 'tera', 'yatırım', 'ekonomisti', 'enver', 'erkan', 've', 'i̇stanbul', 'altın', 'rafinerisi', 'stratejisti', 'haluk', 'i̇zzet', 'mutlu', 'abd', 'tahvillerinde', 'yaşanan', 'yükselişi', 've', 'piyasaya', 'etkilerini', 'sozcu.com.tr', '’', 'ye', 'değerlendirdi', '.']\n"
     ]
    }
   ],
   "source": [
    "print(word_list_tr)"
   ]
  },
  {
   "cell_type": "code",
   "execution_count": 71,
   "id": "extended-enterprise",
   "metadata": {},
   "outputs": [
    {
     "name": "stdout",
     "output_type": "stream",
     "text": [
      "['ekonomi yönetiminin değişmesinden sonra düşüşe geçen dolar kuru 6.90’a kadar çekildi.', 'ancak son dönemde yine yönünü yukarı çevirmiş durumda.', 'kur dün 7.59 seviyesine kadar çıktı.', 'bu yükselişin en önemli sebebi ise abd hazine tahvili faizlerinde yaşanan artış.', 'faizler gece saatlerinde yüzde 1.5’i aşarken, dolar endeksi de üç ayın zirvesine çıktı.', 'ata yatırım direktörü cem tözge, tera yatırım ekonomisti enver erkan ve i̇stanbul altın rafinerisi stratejisti haluk i̇zzet mutlu abd tahvillerinde yaşanan yükselişi ve piyasaya etkilerini sozcu.com.tr’ye değerlendirdi.']\n"
     ]
    }
   ],
   "source": [
    "print(sentence_list_tr)"
   ]
  },
  {
   "cell_type": "code",
   "execution_count": 72,
   "id": "stainless-darwin",
   "metadata": {},
   "outputs": [],
   "source": [
    "# Examining the stemming operation for both english and turkish"
   ]
  },
  {
   "cell_type": "code",
   "execution_count": 73,
   "id": "operational-marriage",
   "metadata": {},
   "outputs": [],
   "source": [
    "from nltk.stem.snowball import SnowballStemmer"
   ]
  },
  {
   "cell_type": "code",
   "execution_count": 74,
   "id": "induced-savannah",
   "metadata": {},
   "outputs": [],
   "source": [
    "stemmer_eng = SnowballStemmer(\"english\", ignore_stopwords = False)"
   ]
  },
  {
   "cell_type": "code",
   "execution_count": 55,
   "id": "descending-blend",
   "metadata": {},
   "outputs": [
    {
     "name": "stdout",
     "output_type": "stream",
     "text": [
      "['intern', 'climat', 'chang', 'group', 'and', 'influenti', 'advis', 'on', 'the', 'global', 'shift', 'from', 'fossil', 'fuel', 'have', 'written', 'to', 'the', 'oecd', 'express', '“', 'grave', 'concern', '”', 'over', 'australian', 'politician', 'mathia', 'cormann', '’', 's', 'bid', 'to', 'be', 'it', 'next', 'secretary-gener', '.', 'former', 'australian', 'financ', 'minist', 'cormann', '’', 's', 'record', 'in', 'a', 'govern', 'that', '“', 'persist', 'fail', 'to', 'take', 'effect', 'action', '”', 'to', 'cut', 'emiss', 'while', 'block', 'intern', 'action', 'meant', 'he', 'was', '“', 'not', 'a', 'suitabl', 'candid', '”', ',', 'the', 'letter', 'say', '.', 'cormann', 'is', 'one', 'of', 'onli', 'two', 'remain', 'candid', 'for', 'the', 'top', 'oecd', 'role', 'after', 'two', 'candid', '–', 'swiss', 'banker', 'philipp', 'hildebrand', 'and', 'greek', 'politician', 'anna', 'diamantopoulou', '–', 'withdrew', 'earlier', 'this', 'week', '.']\n"
     ]
    }
   ],
   "source": [
    "words_stemmed_eng = []\n",
    "for word in word_list_eng:\n",
    "    words_stemmed_eng.append(stemmer_eng.stem(word))\n",
    "print(words_stemmed_eng)"
   ]
  },
  {
   "cell_type": "code",
   "execution_count": 56,
   "id": "pending-sauce",
   "metadata": {},
   "outputs": [],
   "source": [
    "# Let's try for the Turkish"
   ]
  },
  {
   "cell_type": "code",
   "execution_count": 59,
   "id": "twelve-asthma",
   "metadata": {},
   "outputs": [],
   "source": [
    "from snowballstemmer import TurkishStemmer\n",
    "stemmer_tr = TurkishStemmer()"
   ]
  },
  {
   "cell_type": "code",
   "execution_count": 60,
   "id": "durable-equilibrium",
   "metadata": {},
   "outputs": [
    {
     "name": "stdout",
     "output_type": "stream",
     "text": [
      "['ekono', 'yönetim', 'değişme', 'sonra', 'düşüş', 'geçe', 'do', 'kur', '6.90', '’', 'a', 'kadar', 'çekil', '.', 'ancak', 'son', 'döne', 'y', 'yön', 'yukar', 'çevir', 'dur', '.', 'kur', 'dün', '7.59', 'seviye', 'kadar', 'çık', '.', 'bu', 'yükseliş', 'en', 'önemli', 'sebep', 'is', 'abd', 'haz', 'tahvil', 'faiz', 'yaşana', 'artış', '.', 'faiz', 'geç', 'saat', 'yüz', '1.5', '’', 'i', 'aşar', ',', 'do', 'endeksi', 'de', 'üç', 'ay', 'zirve', 'çık', '.', 'a', 'yatır', 'direktör', 'cem', 'tözge', ',', 'tera', 'yatır', 'ekonomis', 'enver', 'erka', 've', 'i̇stanbul', 'al', 'rafineris', 'stratejis', 'haluk', 'i̇zzet', 'mutlu', 'abd', 'tahvil', 'yaşana', 'yükseliş', 've', 'piyasa', 'etki', 'sozcu.com.tr', '’', 'ye', 'değerlendir', '.']\n"
     ]
    }
   ],
   "source": [
    "words_stemmed_tr = []\n",
    "for word in word_list_tr:\n",
    "    words_stemmed_tr.append(stemmer_tr.stemWord(word))\n",
    "print(words_stemmed_tr)"
   ]
  },
  {
   "cell_type": "code",
   "execution_count": null,
   "id": "fluid-newport",
   "metadata": {},
   "outputs": [],
   "source": []
  }
 ],
 "metadata": {
  "kernelspec": {
   "display_name": "Python 3",
   "language": "python",
   "name": "python3"
  },
  "language_info": {
   "codemirror_mode": {
    "name": "ipython",
    "version": 3
   },
   "file_extension": ".py",
   "mimetype": "text/x-python",
   "name": "python",
   "nbconvert_exporter": "python",
   "pygments_lexer": "ipython3",
   "version": "3.8.4"
  }
 },
 "nbformat": 4,
 "nbformat_minor": 5
}
